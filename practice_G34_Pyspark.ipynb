{
  "nbformat": 4,
  "nbformat_minor": 0,
  "metadata": {
    "colab": {
      "provenance": [],
      "toc_visible": true,
      "mount_file_id": "1C4C7t9euCw2dZjj0botoSuY0YrrQCGgw",
      "authorship_tag": "ABX9TyOT04j+p1f2he+bvcTVr7sU",
      "include_colab_link": true
    },
    "kernelspec": {
      "name": "python3",
      "display_name": "Python 3"
    },
    "language_info": {
      "name": "python"
    }
  },
  "cells": [
    {
      "cell_type": "markdown",
      "metadata": {
        "id": "view-in-github",
        "colab_type": "text"
      },
      "source": [
        "<a href=\"https://colab.research.google.com/github/rwemafre/222016926_WT_26_march_2024_B/blob/main/practice_G34_Pyspark.ipynb\" target=\"_parent\"><img src=\"https://colab.research.google.com/assets/colab-badge.svg\" alt=\"Open In Colab\"/></a>"
      ]
    },
    {
      "cell_type": "code",
      "execution_count": null,
      "metadata": {
        "id": "eFZ7bAW0c4sz"
      },
      "outputs": [],
      "source": []
    },
    {
      "cell_type": "markdown",
      "source": [
        "# <font color=\"red\">This is the practice of handling Big data processing using Pyspark<font>"
      ],
      "metadata": {
        "id": "K5e_OlShdXRS"
      }
    },
    {
      "cell_type": "code",
      "source": [
        "#### The following codes will print our Names and regNum\n",
        "print(\"Names:Rwema Fred\")\n",
        "print(\"RegNum: 222016926\")\n",
        "print(\"Group: BIT 3\")"
      ],
      "metadata": {
        "colab": {
          "base_uri": "https://localhost:8080/"
        },
        "id": "b0YBfO3GdmFW",
        "outputId": "bacf90d4-9e32-488d-f2c9-af667b570679"
      },
      "execution_count": 1,
      "outputs": [
        {
          "output_type": "stream",
          "name": "stdout",
          "text": [
            "Names:Rwema Fred\n",
            "RegNum: 222016926\n",
            "Group: BIT 3\n"
          ]
        }
      ]
    },
    {
      "cell_type": "markdown",
      "source": [
        "# improting Pyspark Package"
      ],
      "metadata": {
        "id": "IEsjwR8mgDph"
      }
    },
    {
      "cell_type": "code",
      "source": [
        "!pip install pyspark"
      ],
      "metadata": {
        "colab": {
          "base_uri": "https://localhost:8080/"
        },
        "id": "BGOhtqVDgNXK",
        "outputId": "57024d08-d04a-47e7-bd02-f7c3855e044c"
      },
      "execution_count": 2,
      "outputs": [
        {
          "output_type": "stream",
          "name": "stdout",
          "text": [
            "Requirement already satisfied: pyspark in /usr/local/lib/python3.11/dist-packages (3.5.5)\n",
            "Requirement already satisfied: py4j==0.10.9.7 in /usr/local/lib/python3.11/dist-packages (from pyspark) (0.10.9.7)\n"
          ]
        }
      ]
    },
    {
      "cell_type": "markdown",
      "source": [],
      "metadata": {
        "id": "FvvOmIzfe7np"
      }
    },
    {
      "cell_type": "code",
      "source": [
        "## check pyspark\n",
        "import pyspark"
      ],
      "metadata": {
        "id": "IYJ404pzg7L1"
      },
      "execution_count": 3,
      "outputs": []
    },
    {
      "cell_type": "code",
      "source": [],
      "metadata": {
        "id": "agvTewjkhKhv"
      },
      "execution_count": null,
      "outputs": []
    },
    {
      "cell_type": "markdown",
      "source": [
        "# Start/initiate spark session"
      ],
      "metadata": {
        "id": "5kiTU841htoS"
      }
    },
    {
      "cell_type": "code",
      "source": [
        "from pyspark.sql import SparkSession"
      ],
      "metadata": {
        "id": "SbPqJhG1h9QZ"
      },
      "execution_count": 4,
      "outputs": []
    },
    {
      "cell_type": "code",
      "source": [
        "spark = SparkSession.builder.appName('practice-g34').getOrCreate()"
      ],
      "metadata": {
        "id": "-df8Aag2jNli"
      },
      "execution_count": 5,
      "outputs": []
    },
    {
      "cell_type": "code",
      "source": [
        "## to check all related to the create spark\n",
        "spark"
      ],
      "metadata": {
        "colab": {
          "base_uri": "https://localhost:8080/",
          "height": 219
        },
        "id": "vAtpbBEWjfNl",
        "outputId": "16ea75ed-b14c-4ccb-b6b0-ab17da879bcc"
      },
      "execution_count": 6,
      "outputs": [
        {
          "output_type": "execute_result",
          "data": {
            "text/plain": [
              "<pyspark.sql.session.SparkSession at 0x7811af761850>"
            ],
            "text/html": [
              "\n",
              "            <div>\n",
              "                <p><b>SparkSession - in-memory</b></p>\n",
              "                \n",
              "        <div>\n",
              "            <p><b>SparkContext</b></p>\n",
              "\n",
              "            <p><a href=\"http://e6b9fb63f40e:4040\">Spark UI</a></p>\n",
              "\n",
              "            <dl>\n",
              "              <dt>Version</dt>\n",
              "                <dd><code>v3.5.5</code></dd>\n",
              "              <dt>Master</dt>\n",
              "                <dd><code>local[*]</code></dd>\n",
              "              <dt>AppName</dt>\n",
              "                <dd><code>practice-g34</code></dd>\n",
              "            </dl>\n",
              "        </div>\n",
              "        \n",
              "            </div>\n",
              "        "
            ]
          },
          "metadata": {},
          "execution_count": 6
        }
      ]
    },
    {
      "cell_type": "markdown",
      "source": [
        "##3. connect our dataset to the Google drive at of our data set location"
      ],
      "metadata": {
        "id": "3j1zG5nClhIC"
      }
    },
    {
      "cell_type": "markdown",
      "source": [
        "##4. read Dataset"
      ],
      "metadata": {
        "id": "-GH5Ia6dmJVK"
      }
    },
    {
      "cell_type": "markdown",
      "source": [],
      "metadata": {
        "id": "ZuAe3uBklZDl"
      }
    },
    {
      "cell_type": "code",
      "source": [
        "df = spark.read.csv(\"/content/drive/MyDrive/BIT3-4_SPARK_PRACTICE222016926\", header=True)"
      ],
      "metadata": {
        "id": "sIIH-Ypvk_QS"
      },
      "execution_count": 10,
      "outputs": []
    },
    {
      "cell_type": "code",
      "source": [
        "### How to read\n",
        "df.show()"
      ],
      "metadata": {
        "colab": {
          "base_uri": "https://localhost:8080/"
        },
        "id": "Eaa04e_Fm7yk",
        "outputId": "055d9bba-7920-4f73-fa04-eeb130ce4441"
      },
      "execution_count": 9,
      "outputs": [
        {
          "output_type": "stream",
          "name": "stdout",
          "text": [
            "+-----------+---+------+-------------------+--------------+-----------+------+-----------+-------------+------------------+-------+-------+-----+---------------+-----------------+\n",
            "|        _c0|_c1|   _c2|                _c3|           _c4|        _c5|   _c6|        _c7|          _c8|               _c9|   _c10|   _c11| _c12|           _c13|             _c14|\n",
            "+-----------+---+------+-------------------+--------------+-----------+------+-----------+-------------+------------------+-------+-------+-----+---------------+-----------------+\n",
            "|Customer_ID|Age|Gender|         Occupation|Marital Status|Family Size|Income|Expenditure|Use Frequency|     Loan Category|   Debt|Overdue| Loan|Returned Cheque|Dishonour of Bill|\n",
            "|    IB14001| 30|  MALE|       BANK MANAGER|        SINGLE|          4| 50000|      22199|            6|           HOUSING|428,980|      5|50000|              6|                9|\n",
            "|    IB14008| 44|  MALE|          PROFESSOR|       MARRIED|          6| 51000|      19999|            4|          SHOPPING|428,980|      3|51000|              1|                5|\n",
            "|    IB14012| 30|FEMALE|            DENTIST|        SINGLE|          3| 58450|      27675|            5|        TRAVELLING|428,980|      6|58450|              3|                1|\n",
            "|    IB14018| 29|  MALE|            TEACHER|       MARRIED|          5| 45767|      12787|            3|         GOLD LOAN| 13,000|      7|45767|              0|                4|\n",
            "|    IB14022| 34|  MALE|             POLICE|        SINGLE|          4| 43521|      11999|            3|        AUTOMOBILE| 13,000|      2|43521|              1|                2|\n",
            "|    IB14024| 55|FEMALE|              NURSE|       MARRIED|          6| 34999|      19888|            4|        AUTOMOBILE| 33,333|      1|34999|              0|                3|\n",
            "|    IB14025| 39|FEMALE|            TEACHER|       MARRIED|          6| 46619|      18675|            4|           HOUSING| 33,333|      8|46619|              6|                8|\n",
            "|    IB14027| 51|  MALE|     SYSTEM MANAGER|       MARRIED|          3| 49999|      19111|            5|       RESTAURANTS| 33,333|      8|49999|              2|                5|\n",
            "|    IB14029| 24|FEMALE|            TEACHER|        SINGLE|          3| 45008|      17454|            4|        AUTOMOBILE| 33,333|      9|45008|              4|                7|\n",
            "|    IB14031| 37|FEMALE|  SOFTWARE ENGINEER|       MARRIED|          5| 55999|      23999|            5|        AUTOMOBILE| 33,333|      2|55999|              5|                3|\n",
            "|    IB14032| 24|  MALE|       DATA ANALYST|        SINGLE|          4| 60111|      28999|            6|        AUTOMOBILE| 33,333|      5|60111|              1|                2|\n",
            "|    IB14034| 32|  MALE|   PRODUCT ENGINEER|       MARRIED|          6|  NULL|      29000|            7|COMPUTER SOFTWARES| 33,333|      6| NULL|              5|                4|\n",
            "|    IB14037| 54|FEMALE|            TEACHER|       MARRIED|          5| 48099|      19999|            4|       RESTAURANTS| 33,333|      1|48099|              7|                5|\n",
            "|    IB14039| 45|  MALE|    ACCOUNT MANAGER|       MARRIED|          7| 45777|      18452|            4|         GOLD LOAN| 33,333|      7|45777|              8|                1|\n",
            "|    IB14041| 59|FEMALE|ASSISTANT PROFESSOR|       MARRIED|          4| 50999|      22999|            5|  EDUCATIONAL LOAN| 33,333|      3|50999|              9|                9|\n",
            "|    IB14042| 25|FEMALE|             DOCTOR|        SINGLE|          4| 60111|      27111|            5|        TRAVELLING| 33,333|      4|60111|              1|                0|\n",
            "|    IB14045| 31|  MALE|       STORE KEEPER|        SINGLE|          5| 40999|      11999|            3|       BOOK STORES|210,000|      1|40999|              0|                1|\n",
            "|    IB14049| 49|  MALE|       BANK MANAGER|       MARRIED|          4| 45999|      14500|            4|        TRAVELLING| 21,000|      4|45999|              7|                3|\n",
            "|    IB14050| 56|  MALE|     CIVIL ENGINEER|       MARRIED|          4|  NULL|      13999|            3|           HOUSING| 21,000|      6| NULL|              4|                2|\n",
            "+-----------+---+------+-------------------+--------------+-----------+------+-----------+-------------+------------------+-------+-------+-----+---------------+-----------------+\n",
            "only showing top 20 rows\n",
            "\n"
          ]
        }
      ]
    },
    {
      "cell_type": "markdown",
      "source": [
        "#5. To Check data types"
      ],
      "metadata": {
        "id": "ecJGDOaQs4dU"
      }
    },
    {
      "cell_type": "code",
      "source": [
        "df.printSchema()"
      ],
      "metadata": {
        "colab": {
          "base_uri": "https://localhost:8080/"
        },
        "id": "H2TJkVLsnTmF",
        "outputId": "c114f16e-6b38-4992-934a-1701cb46049c"
      },
      "execution_count": 11,
      "outputs": [
        {
          "output_type": "stream",
          "name": "stdout",
          "text": [
            "root\n",
            " |-- Customer_ID: string (nullable = true)\n",
            " |-- Age: string (nullable = true)\n",
            " |-- Gender: string (nullable = true)\n",
            " |-- Occupation: string (nullable = true)\n",
            " |-- Marital Status: string (nullable = true)\n",
            " |-- Family Size: string (nullable = true)\n",
            " |-- Income: string (nullable = true)\n",
            " |-- Expenditure: string (nullable = true)\n",
            " |-- Use Frequency: string (nullable = true)\n",
            " |-- Loan Category: string (nullable = true)\n",
            " |-- Debt: string (nullable = true)\n",
            " |-- Overdue: string (nullable = true)\n",
            " |-- Loan: string (nullable = true)\n",
            " |-- Returned Cheque: string (nullable = true)\n",
            " |-- Dishonour of Bill: string (nullable = true)\n",
            "\n"
          ]
        }
      ]
    },
    {
      "cell_type": "markdown",
      "source": [
        "### How to correct data types"
      ],
      "metadata": {
        "id": "n5SougKVtOvA"
      }
    },
    {
      "cell_type": "code",
      "source": [
        "df = spark.read.csv(\"/content/drive/MyDrive/BIT3-4_SPARK_PRACTICE222016926\", header=True, inferSchema=True)"
      ],
      "metadata": {
        "id": "rtqgfbIZtJtc"
      },
      "execution_count": 12,
      "outputs": []
    },
    {
      "cell_type": "code",
      "source": [
        "df.printSchema()"
      ],
      "metadata": {
        "colab": {
          "base_uri": "https://localhost:8080/"
        },
        "id": "rEZhqbu4tlWh",
        "outputId": "c5d6160d-077a-426f-9cc7-47f4e8c7c241"
      },
      "execution_count": 13,
      "outputs": [
        {
          "output_type": "stream",
          "name": "stdout",
          "text": [
            "root\n",
            " |-- Customer_ID: string (nullable = true)\n",
            " |-- Age: string (nullable = true)\n",
            " |-- Gender: string (nullable = true)\n",
            " |-- Occupation: string (nullable = true)\n",
            " |-- Marital Status: string (nullable = true)\n",
            " |-- Family Size: integer (nullable = true)\n",
            " |-- Income: integer (nullable = true)\n",
            " |-- Expenditure: integer (nullable = true)\n",
            " |-- Use Frequency: integer (nullable = true)\n",
            " |-- Loan Category: string (nullable = true)\n",
            " |-- Debt: string (nullable = true)\n",
            " |-- Overdue: integer (nullable = true)\n",
            " |-- Loan: integer (nullable = true)\n",
            " |-- Returned Cheque: integer (nullable = true)\n",
            " |-- Dishonour of Bill: integer (nullable = true)\n",
            "\n"
          ]
        }
      ]
    },
    {
      "cell_type": "code",
      "source": [
        "df.describe().show()"
      ],
      "metadata": {
        "colab": {
          "base_uri": "https://localhost:8080/"
        },
        "id": "N7upEMyQuxkl",
        "outputId": "c1f47ef1-fc32-4b35-e6ea-8db549e614a1"
      },
      "execution_count": 14,
      "outputs": [
        {
          "output_type": "stream",
          "name": "stdout",
          "text": [
            "+-------+-----------+------------------+------+-----------------+--------------+----------------+-----------------+------------------+------------------+-------------+-------+------------------+-----------------+-----------------+------------------+\n",
            "|summary|Customer_ID|               Age|Gender|       Occupation|Marital Status|     Family Size|           Income|       Expenditure|     Use Frequency|Loan Category|   Debt|           Overdue|             Loan|  Returned Cheque| Dishonour of Bill|\n",
            "+-------+-----------+------------------+------+-----------------+--------------+----------------+-----------------+------------------+------------------+-------------+-------+------------------+-----------------+-----------------+------------------+\n",
            "|  count|        646|               646|   646|              646|           500|             500|              468|               481|               500|          500|    500|               500|              468|              500|               500|\n",
            "|   mean|       NULL| 38.15015479876161|  NULL|67.73287671232876|          NULL|            4.55|68339.49145299145|27533.180873180874|              5.33|         NULL|   NULL|             4.974|68339.49145299145|             4.12|              4.31|\n",
            "| stddev|       NULL|11.118560150530348|  NULL|7.888263736140052|          NULL|1.54280929509842|86796.49367750238|10209.599414813816|2.0487789021707443|         NULL|   NULL|2.4919356907781443|86796.49367750238|2.777233524949641|2.6160250714296875|\n",
            "|    min|    1B14093|                17|     F|               51|       MARRIED|               2|            28366|              9000|                 2|  AGRICULTURE| 13,000|                 1|            28366|                0|                 0|\n",
            "|    max|     ZIPOLA|                60|  MALE|       TECHNICIAN|        SINGLE|               7|           930000|             62541|                 9|   TRAVELLING|428,980|                 9|           930000|                9|                10|\n",
            "+-------+-----------+------------------+------+-----------------+--------------+----------------+-----------------+------------------+------------------+-------------+-------+------------------+-----------------+-----------------+------------------+\n",
            "\n"
          ]
        }
      ]
    },
    {
      "cell_type": "code",
      "source": [
        "df.summary().show()"
      ],
      "metadata": {
        "colab": {
          "base_uri": "https://localhost:8080/"
        },
        "id": "nSNEDHCKtssr",
        "outputId": "6531dce5-02b0-45d4-f84b-3a1cca879c00"
      },
      "execution_count": 15,
      "outputs": [
        {
          "output_type": "stream",
          "name": "stdout",
          "text": [
            "+-------+-----------+------------------+------+-----------------+--------------+----------------+-----------------+------------------+------------------+-------------+-------+------------------+-----------------+-----------------+------------------+\n",
            "|summary|Customer_ID|               Age|Gender|       Occupation|Marital Status|     Family Size|           Income|       Expenditure|     Use Frequency|Loan Category|   Debt|           Overdue|             Loan|  Returned Cheque| Dishonour of Bill|\n",
            "+-------+-----------+------------------+------+-----------------+--------------+----------------+-----------------+------------------+------------------+-------------+-------+------------------+-----------------+-----------------+------------------+\n",
            "|  count|        646|               646|   646|              646|           500|             500|              468|               481|               500|          500|    500|               500|              468|              500|               500|\n",
            "|   mean|       NULL| 38.15015479876161|  NULL|67.73287671232876|          NULL|            4.55|68339.49145299145|27533.180873180874|              5.33|         NULL|   NULL|             4.974|68339.49145299145|             4.12|              4.31|\n",
            "| stddev|       NULL|11.118560150530348|  NULL|7.888263736140052|          NULL|1.54280929509842|86796.49367750238|10209.599414813816|2.0487789021707443|         NULL|   NULL|2.4919356907781443|86796.49367750238|2.777233524949641|2.6160250714296875|\n",
            "|    min|    1B14093|                17|     F|               51|       MARRIED|               2|            28366|              9000|                 2|  AGRICULTURE| 13,000|                 1|            28366|                0|                 0|\n",
            "|    25%|       NULL|              29.0|  NULL|             62.0|          NULL|               3|            45213|             19888|                 4|         NULL|   NULL|                 3|            45213|                2|                 2|\n",
            "|    50%|       NULL|              38.0|  NULL|             68.0|          NULL|               5|            55680|             25670|                 5|         NULL|   NULL|                 5|            55680|                4|                 4|\n",
            "|    75%|       NULL|              46.0|  NULL|             74.0|          NULL|               6|            73656|             33239|                 7|         NULL|   NULL|                 7|            73656|                6|                 6|\n",
            "|    max|     ZIPOLA|                60|  MALE|       TECHNICIAN|        SINGLE|               7|           930000|             62541|                 9|   TRAVELLING|428,980|                 9|           930000|                9|                10|\n",
            "+-------+-----------+------------------+------+-----------------+--------------+----------------+-----------------+------------------+------------------+-------------+-------+------------------+-----------------+-----------------+------------------+\n",
            "\n"
          ]
        }
      ]
    },
    {
      "cell_type": "code",
      "source": [],
      "metadata": {
        "id": "994JBMqcwM9v"
      },
      "execution_count": null,
      "outputs": []
    }
  ]
}